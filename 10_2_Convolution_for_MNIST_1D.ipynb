{
  "nbformat": 4,
  "nbformat_minor": 0,
  "metadata": {
    "colab": {
      "provenance": [],
      "include_colab_link": true
    },
    "kernelspec": {
      "name": "python3",
      "display_name": "Python 3"
    },
    "language_info": {
      "name": "python"
    }
  },
  "cells": [
    {
      "cell_type": "markdown",
      "metadata": {
        "id": "view-in-github",
        "colab_type": "text"
      },
      "source": [
        "<a href=\"https://colab.research.google.com/github/wockeshuh/CSCI167/blob/main/10_2_Convolution_for_MNIST_1D.ipynb\" target=\"_parent\"><img src=\"https://colab.research.google.com/assets/colab-badge.svg\" alt=\"Open In Colab\"/></a>"
      ]
    },
    {
      "cell_type": "markdown",
      "source": [
        "# **Notebook 10.2: Convolution for MNIST-1D**\n",
        "\n",
        "This notebook investigates a 1D convolutional network for MNIST-1D as in figure 10.7 and 10.8a.\n",
        "\n",
        "Work through the cells below, running each cell in turn. In various places you will see the words \"TO DO\". Follow the instructions at these places and make predictions about what is going to happen or write code to complete the functions.\n",
        "\n",
        "Contact me at udlbookmail@gmail.com if you find any mistakes or have any suggestions.\n",
        "\n"
      ],
      "metadata": {
        "id": "t9vk9Elugvmi"
      }
    },
    {
      "cell_type": "code",
      "source": [
        "# Run this if you're in a Colab to install MNIST 1D repository\n",
        "!pip install git+https://github.com/greydanus/mnist1d"
      ],
      "metadata": {
        "id": "D5yLObtZCi9J",
        "colab": {
          "base_uri": "https://localhost:8080/"
        },
        "outputId": "067dcee6-c418-478a-eaf3-634edaedf4bd"
      },
      "execution_count": 1,
      "outputs": [
        {
          "output_type": "stream",
          "name": "stdout",
          "text": [
            "Collecting git+https://github.com/greydanus/mnist1d\n",
            "  Cloning https://github.com/greydanus/mnist1d to /tmp/pip-req-build-256hyiuk\n",
            "  Running command git clone --filter=blob:none --quiet https://github.com/greydanus/mnist1d /tmp/pip-req-build-256hyiuk\n",
            "  Resolved https://github.com/greydanus/mnist1d to commit 7878d96082abd200c546a07a4101fa90b30fdf7e\n",
            "  Installing build dependencies ... \u001b[?25l\u001b[?25hdone\n",
            "  Getting requirements to build wheel ... \u001b[?25l\u001b[?25hdone\n",
            "  Preparing metadata (pyproject.toml) ... \u001b[?25l\u001b[?25hdone\n",
            "Requirement already satisfied: requests in /usr/local/lib/python3.10/dist-packages (from mnist1d==0.0.2.post16) (2.32.3)\n",
            "Requirement already satisfied: numpy in /usr/local/lib/python3.10/dist-packages (from mnist1d==0.0.2.post16) (1.26.4)\n",
            "Requirement already satisfied: matplotlib in /usr/local/lib/python3.10/dist-packages (from mnist1d==0.0.2.post16) (3.7.1)\n",
            "Requirement already satisfied: scipy in /usr/local/lib/python3.10/dist-packages (from mnist1d==0.0.2.post16) (1.13.1)\n",
            "Requirement already satisfied: contourpy>=1.0.1 in /usr/local/lib/python3.10/dist-packages (from matplotlib->mnist1d==0.0.2.post16) (1.3.0)\n",
            "Requirement already satisfied: cycler>=0.10 in /usr/local/lib/python3.10/dist-packages (from matplotlib->mnist1d==0.0.2.post16) (0.12.1)\n",
            "Requirement already satisfied: fonttools>=4.22.0 in /usr/local/lib/python3.10/dist-packages (from matplotlib->mnist1d==0.0.2.post16) (4.54.1)\n",
            "Requirement already satisfied: kiwisolver>=1.0.1 in /usr/local/lib/python3.10/dist-packages (from matplotlib->mnist1d==0.0.2.post16) (1.4.7)\n",
            "Requirement already satisfied: packaging>=20.0 in /usr/local/lib/python3.10/dist-packages (from matplotlib->mnist1d==0.0.2.post16) (24.1)\n",
            "Requirement already satisfied: pillow>=6.2.0 in /usr/local/lib/python3.10/dist-packages (from matplotlib->mnist1d==0.0.2.post16) (10.4.0)\n",
            "Requirement already satisfied: pyparsing>=2.3.1 in /usr/local/lib/python3.10/dist-packages (from matplotlib->mnist1d==0.0.2.post16) (3.2.0)\n",
            "Requirement already satisfied: python-dateutil>=2.7 in /usr/local/lib/python3.10/dist-packages (from matplotlib->mnist1d==0.0.2.post16) (2.8.2)\n",
            "Requirement already satisfied: charset-normalizer<4,>=2 in /usr/local/lib/python3.10/dist-packages (from requests->mnist1d==0.0.2.post16) (3.4.0)\n",
            "Requirement already satisfied: idna<4,>=2.5 in /usr/local/lib/python3.10/dist-packages (from requests->mnist1d==0.0.2.post16) (3.10)\n",
            "Requirement already satisfied: urllib3<3,>=1.21.1 in /usr/local/lib/python3.10/dist-packages (from requests->mnist1d==0.0.2.post16) (2.2.3)\n",
            "Requirement already satisfied: certifi>=2017.4.17 in /usr/local/lib/python3.10/dist-packages (from requests->mnist1d==0.0.2.post16) (2024.8.30)\n",
            "Requirement already satisfied: six>=1.5 in /usr/local/lib/python3.10/dist-packages (from python-dateutil>=2.7->matplotlib->mnist1d==0.0.2.post16) (1.16.0)\n",
            "Building wheels for collected packages: mnist1d\n",
            "  Building wheel for mnist1d (pyproject.toml) ... \u001b[?25l\u001b[?25hdone\n",
            "  Created wheel for mnist1d: filename=mnist1d-0.0.2.post16-py3-none-any.whl size=14624 sha256=e34f6c1fb4bba0e50b8d9ce91403b6de695c035a93997b45c339fb564d952f29\n",
            "  Stored in directory: /tmp/pip-ephem-wheel-cache-rsw6cyqi/wheels/41/95/55/45fcf7d38cfa97e35682da6c5017d4513729131326ce935371\n",
            "Successfully built mnist1d\n",
            "Installing collected packages: mnist1d\n",
            "Successfully installed mnist1d-0.0.2.post16\n"
          ]
        }
      ]
    },
    {
      "cell_type": "code",
      "source": [
        "import numpy as np\n",
        "import os\n",
        "import torch, torch.nn as nn\n",
        "from torch.utils.data import TensorDataset, DataLoader\n",
        "from torch.optim.lr_scheduler import StepLR\n",
        "import matplotlib.pyplot as plt\n",
        "import mnist1d\n",
        "import random"
      ],
      "metadata": {
        "id": "YrXWAH7sUWvU"
      },
      "execution_count": 2,
      "outputs": []
    },
    {
      "cell_type": "code",
      "source": [
        "args = mnist1d.data.get_dataset_args()\n",
        "data = mnist1d.data.get_dataset(args, path='./mnist1d_data.pkl', download=False, regenerate=False)\n",
        "\n",
        "# The training and test input and outputs are in\n",
        "# data['x'], data['y'], data['x_test'], and data['y_test']\n",
        "print(\"Examples in training set: {}\".format(len(data['y'])))\n",
        "print(\"Examples in test set: {}\".format(len(data['y_test'])))\n",
        "print(\"Length of each example: {}\".format(data['x'].shape[-1]))"
      ],
      "metadata": {
        "id": "twI72ZCrCt5z",
        "colab": {
          "base_uri": "https://localhost:8080/"
        },
        "outputId": "54983234-c372-4327-c8f1-4d2ecc1571b6"
      },
      "execution_count": 3,
      "outputs": [
        {
          "output_type": "stream",
          "name": "stdout",
          "text": [
            "Did or could not load data from ./mnist1d_data.pkl. Rebuilding dataset...\n",
            "Examples in training set: 4000\n",
            "Examples in test set: 1000\n",
            "Length of each example: 40\n"
          ]
        }
      ]
    },
    {
      "cell_type": "code",
      "source": [
        "# Load in the data\n",
        "train_data_x = data['x'].transpose()\n",
        "train_data_y = data['y']\n",
        "val_data_x = data['x_test'].transpose()\n",
        "val_data_y = data['y_test']\n",
        "# Print out sizes\n",
        "print(\"Train data: %d examples (columns), each of which has %d dimensions (rows)\"%((train_data_x.shape[1],train_data_x.shape[0])))\n",
        "print(\"Validation data: %d examples (columns), each of which has %d dimensions (rows)\"%((val_data_x.shape[1],val_data_x.shape[0])))"
      ],
      "metadata": {
        "id": "8bKADvLHbiV5",
        "colab": {
          "base_uri": "https://localhost:8080/"
        },
        "outputId": "ea39052b-94c1-42ab-890c-f34548e9af04"
      },
      "execution_count": 4,
      "outputs": [
        {
          "output_type": "stream",
          "name": "stdout",
          "text": [
            "Train data: 4000 examples (columns), each of which has 40 dimensions (rows)\n",
            "Validation data: 1000 examples (columns), each of which has 40 dimensions (rows)\n"
          ]
        }
      ]
    },
    {
      "cell_type": "markdown",
      "source": [
        "Define the network"
      ],
      "metadata": {
        "id": "_sFvRDGrl4qe"
      }
    },
    {
      "cell_type": "code",
      "source": [
        "# There are 40 input dimensions and 10 output dimensions for this data\n",
        "# The inputs correspond to the 40 offsets in the MNIST1D template.\n",
        "D_i = 40\n",
        "# The outputs correspond to the 10 digits\n",
        "D_o = 10\n",
        "\n",
        "\n",
        "# TODO Create a model with the following layers\n",
        "# 1. Convolutional layer, (input=length 40 and 1 channel, kernel size 3, stride 2, padding=\"valid\", 15 output channels )\n",
        "# 2. ReLU\n",
        "# 3. Convolutional layer, (input=length 19 and 15 channels, kernel size 3, stride 2, padding=\"valid\", 15 output channels )\n",
        "# 4. ReLU\n",
        "# 5. Convolutional layer, (input=length 9 and 15 channels, kernel size 3, stride 2, padding=\"valid\", 15 output channels)\n",
        "# 6. ReLU\n",
        "# 7. Flatten (converts 4x15) to length 60\n",
        "# 8. Linear layer (input size = 60, output size = 10)\n",
        "# References:\n",
        "# https://pytorch.org/docs/1.13/generated/torch.nn.Conv1d.html?highlight=conv1d#torch.nn.Conv1d\n",
        "# https://pytorch.org/docs/stable/generated/torch.nn.Flatten.html\n",
        "# https://pytorch.org/docs/1.13/generated/torch.nn.Linear.html?highlight=linear#torch.nn.Linear\n",
        "\n",
        "# NOTE THAT THE CONVOLUTIONAL LAYERS NEED TO TAKE THE NUMBER OF INPUT CHANNELS AS A PARAMETER\n",
        "# AND NOT THE INPUT SIZE.\n",
        "\n",
        "# Replace the following function:\n",
        "\n",
        "model = nn.Sequential(\n",
        "    nn.Conv1d(in_channels=1, out_channels=15, kernel_size=3, stride=2, padding='valid'),\n",
        "    nn.ReLU(),\n",
        "    nn.Conv1d(in_channels=15, out_channels=15, kernel_size=3, stride=2, padding='valid'),\n",
        "    nn.ReLU(),\n",
        "    nn.Conv1d(in_channels=15, out_channels=15, kernel_size=3, stride=2, padding='valid'),\n",
        "    nn.ReLU(),\n",
        "    nn.Flatten(),\n",
        "    nn.Linear(60, 10)\n",
        ")\n",
        "\n",
        "\n",
        "\n"
      ],
      "metadata": {
        "id": "FslroPJJffrh"
      },
      "execution_count": 5,
      "outputs": []
    },
    {
      "cell_type": "code",
      "source": [
        "# He initialization of weights\n",
        "def weights_init(layer_in):\n",
        "  if isinstance(layer_in, nn.Linear):\n",
        "    nn.init.kaiming_uniform_(layer_in.weight)\n",
        "    layer_in.bias.data.fill_(0.0)"
      ],
      "metadata": {
        "id": "YgLaex1pfhqz"
      },
      "execution_count": 6,
      "outputs": []
    },
    {
      "cell_type": "code",
      "source": [
        "# choose cross entropy loss function (equation 5.24 in the loss notes)\n",
        "loss_function = nn.CrossEntropyLoss()\n",
        "# construct SGD optimizer and initialize learning rate and momentum\n",
        "optimizer = torch.optim.SGD(model.parameters(), lr = 0.05, momentum=0.9)\n",
        "# object that decreases learning rate by half every 20 epochs\n",
        "scheduler = StepLR(optimizer, step_size=20, gamma=0.5)\n",
        "# create 100 dummy data points and store in data loader class\n",
        "x_train = torch.tensor(train_data_x.transpose().astype('float32'))\n",
        "y_train = torch.tensor(train_data_y.astype('long')).long()\n",
        "x_val= torch.tensor(val_data_x.transpose().astype('float32'))\n",
        "y_val = torch.tensor(val_data_y.astype('long')).long()\n",
        "\n",
        "# load the data into a class that creates the batches\n",
        "data_loader = DataLoader(TensorDataset(x_train,y_train), batch_size=100, shuffle=True, worker_init_fn=np.random.seed(1))\n",
        "\n",
        "# Initialize model weights\n",
        "model.apply(weights_init)\n",
        "\n",
        "# loop over the dataset n_epoch times\n",
        "n_epoch = 100\n",
        "# store the loss and the % correct at each epoch\n",
        "losses_train = np.zeros((n_epoch))\n",
        "errors_train = np.zeros((n_epoch))\n",
        "losses_val = np.zeros((n_epoch))\n",
        "errors_val = np.zeros((n_epoch))\n",
        "\n",
        "for epoch in range(n_epoch):\n",
        "  # loop over batches\n",
        "  for i, data in enumerate(data_loader):\n",
        "    # retrieve inputs and labels for this batch\n",
        "    x_batch, y_batch = data\n",
        "    # zero the parameter gradients\n",
        "    optimizer.zero_grad()\n",
        "    # forward pass -- calculate model output\n",
        "    pred = model(x_batch[:,None,:])\n",
        "    # compute the loss\n",
        "    loss = loss_function(pred, y_batch)\n",
        "    # backward pass\n",
        "    loss.backward()\n",
        "    # SGD update\n",
        "    optimizer.step()\n",
        "\n",
        "  # Run whole dataset to get statistics -- normally wouldn't do this\n",
        "  pred_train = model(x_train[:,None,:])\n",
        "  pred_val = model(x_val[:,None,:])\n",
        "  _, predicted_train_class = torch.max(pred_train.data, 1)\n",
        "  _, predicted_val_class = torch.max(pred_val.data, 1)\n",
        "  errors_train[epoch] = 100 - 100 * (predicted_train_class == y_train).float().sum() / len(y_train)\n",
        "  errors_val[epoch]= 100 - 100 * (predicted_val_class == y_val).float().sum() / len(y_val)\n",
        "  losses_train[epoch] = loss_function(pred_train, y_train).item()\n",
        "  losses_val[epoch]= loss_function(pred_val, y_val).item()\n",
        "  print(f'Epoch {epoch:5d}, train loss {losses_train[epoch]:.6f}, train error {errors_train[epoch]:3.2f},  val loss {losses_val[epoch]:.6f}, percent error {errors_val[epoch]:3.2f}')\n",
        "\n",
        "  # tell scheduler to consider updating learning rate\n",
        "  scheduler.step()\n",
        "\n",
        "# Plot the results\n",
        "fig, ax = plt.subplots()\n",
        "ax.plot(errors_train,'r-',label='train')\n",
        "ax.plot(errors_val,'b-',label='validation')\n",
        "ax.set_ylim(0,100); ax.set_xlim(0,n_epoch)\n",
        "ax.set_xlabel('Epoch'); ax.set_ylabel('Error')\n",
        "ax.set_title('Part I: Validation Result %3.2f'%(errors_val[-1]))\n",
        "ax.legend()\n",
        "plt.show()"
      ],
      "metadata": {
        "id": "NYw8I_3mmX5c",
        "colab": {
          "base_uri": "https://localhost:8080/",
          "height": 1000
        },
        "outputId": "41462b59-7acc-4029-ee2b-2e33c261d0a3"
      },
      "execution_count": 7,
      "outputs": [
        {
          "output_type": "stream",
          "name": "stdout",
          "text": [
            "Epoch     0, train loss 2.094881, train error 79.88,  val loss 2.113297, percent error 81.50\n",
            "Epoch     1, train loss 1.546875, train error 62.83,  val loss 1.564431, percent error 65.10\n",
            "Epoch     2, train loss 1.341853, train error 54.65,  val loss 1.353959, percent error 57.40\n",
            "Epoch     3, train loss 1.256399, train error 51.72,  val loss 1.281853, percent error 54.90\n",
            "Epoch     4, train loss 1.184121, train error 48.75,  val loss 1.238972, percent error 52.50\n",
            "Epoch     5, train loss 1.045377, train error 40.80,  val loss 1.089539, percent error 43.40\n",
            "Epoch     6, train loss 0.949525, train error 37.08,  val loss 1.016000, percent error 39.90\n",
            "Epoch     7, train loss 0.864177, train error 32.20,  val loss 0.919699, percent error 34.90\n",
            "Epoch     8, train loss 0.751870, train error 28.05,  val loss 0.823655, percent error 33.00\n",
            "Epoch     9, train loss 0.678954, train error 25.20,  val loss 0.748436, percent error 29.60\n",
            "Epoch    10, train loss 0.594218, train error 22.47,  val loss 0.684781, percent error 26.10\n",
            "Epoch    11, train loss 0.538453, train error 21.15,  val loss 0.617735, percent error 24.10\n",
            "Epoch    12, train loss 0.571607, train error 21.75,  val loss 0.653708, percent error 24.40\n",
            "Epoch    13, train loss 0.409628, train error 15.22,  val loss 0.490718, percent error 19.00\n",
            "Epoch    14, train loss 0.383360, train error 13.88,  val loss 0.470453, percent error 19.10\n",
            "Epoch    15, train loss 0.361550, train error 13.15,  val loss 0.459279, percent error 17.20\n",
            "Epoch    16, train loss 0.361458, train error 12.53,  val loss 0.464780, percent error 16.80\n",
            "Epoch    17, train loss 0.305825, train error 11.50,  val loss 0.436614, percent error 15.70\n",
            "Epoch    18, train loss 0.265244, train error 9.90,  val loss 0.375682, percent error 14.10\n",
            "Epoch    19, train loss 0.247053, train error 9.20,  val loss 0.392050, percent error 14.10\n",
            "Epoch    20, train loss 0.173801, train error 5.93,  val loss 0.319139, percent error 11.30\n",
            "Epoch    21, train loss 0.169610, train error 6.05,  val loss 0.329641, percent error 12.00\n",
            "Epoch    22, train loss 0.165234, train error 5.95,  val loss 0.318240, percent error 10.50\n",
            "Epoch    23, train loss 0.148249, train error 4.97,  val loss 0.310703, percent error 11.00\n",
            "Epoch    24, train loss 0.134049, train error 4.30,  val loss 0.315708, percent error 11.40\n",
            "Epoch    25, train loss 0.161641, train error 5.62,  val loss 0.339579, percent error 11.10\n",
            "Epoch    26, train loss 0.118443, train error 3.93,  val loss 0.298268, percent error 9.90\n",
            "Epoch    27, train loss 0.152081, train error 5.38,  val loss 0.336634, percent error 9.90\n",
            "Epoch    28, train loss 0.117389, train error 4.15,  val loss 0.292581, percent error 9.40\n",
            "Epoch    29, train loss 0.106295, train error 3.47,  val loss 0.309568, percent error 10.10\n",
            "Epoch    30, train loss 0.108242, train error 3.78,  val loss 0.309356, percent error 9.90\n",
            "Epoch    31, train loss 0.098234, train error 3.15,  val loss 0.305734, percent error 10.30\n",
            "Epoch    32, train loss 0.109743, train error 3.70,  val loss 0.328179, percent error 10.20\n",
            "Epoch    33, train loss 0.094551, train error 3.03,  val loss 0.293753, percent error 9.50\n",
            "Epoch    34, train loss 0.109217, train error 3.80,  val loss 0.337950, percent error 11.00\n",
            "Epoch    35, train loss 0.096739, train error 3.43,  val loss 0.340071, percent error 9.80\n",
            "Epoch    36, train loss 0.080017, train error 2.65,  val loss 0.314912, percent error 10.00\n",
            "Epoch    37, train loss 0.085858, train error 2.85,  val loss 0.349080, percent error 10.10\n",
            "Epoch    38, train loss 0.078735, train error 2.38,  val loss 0.332938, percent error 10.00\n",
            "Epoch    39, train loss 0.071801, train error 2.25,  val loss 0.320337, percent error 8.70\n",
            "Epoch    40, train loss 0.058551, train error 1.43,  val loss 0.315213, percent error 9.40\n",
            "Epoch    41, train loss 0.056519, train error 1.25,  val loss 0.323237, percent error 9.00\n",
            "Epoch    42, train loss 0.057370, train error 1.70,  val loss 0.323558, percent error 9.00\n",
            "Epoch    43, train loss 0.051270, train error 1.22,  val loss 0.317355, percent error 9.10\n",
            "Epoch    44, train loss 0.049762, train error 1.05,  val loss 0.325144, percent error 9.50\n",
            "Epoch    45, train loss 0.051345, train error 1.07,  val loss 0.321968, percent error 9.00\n",
            "Epoch    46, train loss 0.054843, train error 1.38,  val loss 0.322601, percent error 9.20\n",
            "Epoch    47, train loss 0.053031, train error 1.25,  val loss 0.342591, percent error 9.50\n",
            "Epoch    48, train loss 0.048038, train error 1.18,  val loss 0.333972, percent error 8.90\n",
            "Epoch    49, train loss 0.045126, train error 0.85,  val loss 0.345495, percent error 9.30\n",
            "Epoch    50, train loss 0.049312, train error 1.25,  val loss 0.341852, percent error 9.20\n",
            "Epoch    51, train loss 0.042971, train error 0.88,  val loss 0.348326, percent error 9.30\n",
            "Epoch    52, train loss 0.042119, train error 0.80,  val loss 0.351372, percent error 9.00\n",
            "Epoch    53, train loss 0.039929, train error 0.72,  val loss 0.344258, percent error 9.00\n",
            "Epoch    54, train loss 0.040933, train error 0.80,  val loss 0.352147, percent error 9.70\n",
            "Epoch    55, train loss 0.041062, train error 0.93,  val loss 0.348778, percent error 9.20\n",
            "Epoch    56, train loss 0.037266, train error 0.70,  val loss 0.355766, percent error 10.00\n",
            "Epoch    57, train loss 0.036595, train error 0.60,  val loss 0.354956, percent error 9.60\n",
            "Epoch    58, train loss 0.037375, train error 0.75,  val loss 0.353448, percent error 9.50\n",
            "Epoch    59, train loss 0.033940, train error 0.53,  val loss 0.358456, percent error 8.90\n",
            "Epoch    60, train loss 0.033980, train error 0.53,  val loss 0.366099, percent error 9.40\n",
            "Epoch    61, train loss 0.033883, train error 0.60,  val loss 0.366729, percent error 9.50\n",
            "Epoch    62, train loss 0.032860, train error 0.47,  val loss 0.365171, percent error 9.30\n",
            "Epoch    63, train loss 0.032105, train error 0.43,  val loss 0.364511, percent error 9.20\n",
            "Epoch    64, train loss 0.031845, train error 0.45,  val loss 0.369424, percent error 9.40\n",
            "Epoch    65, train loss 0.031189, train error 0.40,  val loss 0.369722, percent error 9.20\n",
            "Epoch    66, train loss 0.031089, train error 0.47,  val loss 0.370614, percent error 9.00\n",
            "Epoch    67, train loss 0.030768, train error 0.40,  val loss 0.370272, percent error 9.60\n",
            "Epoch    68, train loss 0.030053, train error 0.47,  val loss 0.374111, percent error 9.40\n",
            "Epoch    69, train loss 0.030766, train error 0.40,  val loss 0.368385, percent error 9.10\n",
            "Epoch    70, train loss 0.030253, train error 0.35,  val loss 0.379576, percent error 9.10\n",
            "Epoch    71, train loss 0.029573, train error 0.40,  val loss 0.380024, percent error 9.30\n",
            "Epoch    72, train loss 0.029146, train error 0.40,  val loss 0.379022, percent error 9.30\n",
            "Epoch    73, train loss 0.028684, train error 0.43,  val loss 0.381841, percent error 9.20\n",
            "Epoch    74, train loss 0.029244, train error 0.45,  val loss 0.381672, percent error 9.40\n",
            "Epoch    75, train loss 0.028783, train error 0.40,  val loss 0.385659, percent error 9.50\n",
            "Epoch    76, train loss 0.035075, train error 0.70,  val loss 0.391720, percent error 10.20\n",
            "Epoch    77, train loss 0.028419, train error 0.47,  val loss 0.390617, percent error 9.20\n",
            "Epoch    78, train loss 0.027425, train error 0.35,  val loss 0.382658, percent error 9.20\n",
            "Epoch    79, train loss 0.026646, train error 0.30,  val loss 0.388037, percent error 9.30\n",
            "Epoch    80, train loss 0.026321, train error 0.32,  val loss 0.386125, percent error 9.30\n",
            "Epoch    81, train loss 0.026678, train error 0.38,  val loss 0.390480, percent error 9.40\n",
            "Epoch    82, train loss 0.026506, train error 0.38,  val loss 0.390430, percent error 9.20\n",
            "Epoch    83, train loss 0.025933, train error 0.32,  val loss 0.390253, percent error 9.30\n",
            "Epoch    84, train loss 0.026144, train error 0.35,  val loss 0.391315, percent error 9.30\n",
            "Epoch    85, train loss 0.025678, train error 0.32,  val loss 0.392264, percent error 9.20\n",
            "Epoch    86, train loss 0.025363, train error 0.32,  val loss 0.392147, percent error 9.20\n",
            "Epoch    87, train loss 0.025570, train error 0.32,  val loss 0.396062, percent error 9.20\n",
            "Epoch    88, train loss 0.025199, train error 0.30,  val loss 0.396172, percent error 9.30\n",
            "Epoch    89, train loss 0.024978, train error 0.30,  val loss 0.395304, percent error 9.40\n",
            "Epoch    90, train loss 0.024906, train error 0.30,  val loss 0.396172, percent error 9.20\n",
            "Epoch    91, train loss 0.024850, train error 0.32,  val loss 0.395230, percent error 9.20\n",
            "Epoch    92, train loss 0.025255, train error 0.38,  val loss 0.398142, percent error 9.30\n",
            "Epoch    93, train loss 0.025859, train error 0.35,  val loss 0.403407, percent error 9.20\n",
            "Epoch    94, train loss 0.024573, train error 0.28,  val loss 0.399228, percent error 9.30\n",
            "Epoch    95, train loss 0.024301, train error 0.30,  val loss 0.398196, percent error 9.10\n",
            "Epoch    96, train loss 0.024150, train error 0.25,  val loss 0.400685, percent error 9.20\n",
            "Epoch    97, train loss 0.024166, train error 0.30,  val loss 0.401359, percent error 9.10\n",
            "Epoch    98, train loss 0.023939, train error 0.28,  val loss 0.400488, percent error 9.10\n",
            "Epoch    99, train loss 0.024598, train error 0.30,  val loss 0.403773, percent error 9.30\n"
          ]
        },
        {
          "output_type": "display_data",
          "data": {
            "text/plain": [
              "<Figure size 640x480 with 1 Axes>"
            ],
            "image/png": "[encoded data removed]"
          },
          "metadata": {}
        }
      ]
    }
  ]
}